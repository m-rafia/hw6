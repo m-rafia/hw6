{
 "cells": [
  {
   "cell_type": "markdown",
   "metadata": {},
   "source": [
    "# hw6 - machine learning\n",
    "CS370/CS570\n",
    "\n",
    "- Assigned Monday March 24th.\n",
    "- Due: Thursday April 10th, 11:59pm\n",
    "\n",
    "Reading: AIMA Chapter 19.  You should also read chapters 20 and 21.\n",
    "\n",
    "Edit this file and submit it on gradescope.\n",
    "\n",
    "- Name: Rafia Mobashira\n",
    "- Email address: rafiamobashira@gmail.com\n",
    "- Hours: 16"
   ]
  },
  {
   "cell_type": "markdown",
   "metadata": {},
   "source": [
    "## Model-Specific Preprocessing Summary\n",
    "\n",
    "In this project, I implemented and evaluated several machine learning models on the Titanic dataset to determine whether a surviver survived or perished. Each model required different preprocessing strategies, especially in how they handled missing values and non-input features.\n",
    "\n",
    "\n",
    "## Data Preparation\n",
    "\n",
    "I first prepared the data by setting the target attribute to `Survived`:\n",
    "\n",
    "```python\n",
    "titanic.target = titanic.attrnames.index('Survived')\n",
    "```\n",
    "\n",
    "I then removed the **header row** from the examples to prevent it from being treated as training data:\n",
    "\n",
    "```python\n",
    "titanic.examples = titanic.examples[1:]\n",
    "```\n",
    "\n",
    "Next, I adjusted the inputs so that `PassengerId`, `Name`, `Ticket`, and `Cabin` were excluded from training, since they were not useful in determining survival. These features were either identifiers or non-informative for classification.\n",
    "\n",
    "---\n",
    "\n",
    "## Data Cleaning\n",
    "\n",
    "To clean the dataset:\n",
    "\n",
    "- I filled missing values in `Age`, `Fare`, `SibSp`, and `Parch` with their respective **median values**:\n",
    "\n",
    "$$\n",
    "x_{\\text{missing}} = \\text{median}(x_{\\text{observed}})\n",
    "$$\n",
    "\n",
    "- I replaced missing values in the `Embarked` column with `\"U\"` to indicate unknown port of embarkation.\n",
    "\n",
    "- I mapped categorical string values in `Sex` and `Embarked` to **integers** using dictionary mappings, so all features were numerical and compatible with ML models.\n",
    "\n",
    "---\n",
    "\n",
    "## Models Trained\n",
    "\n",
    "I trained the following machine learning models:\n",
    "\n",
    "- Decision Tree\n",
    "- Random Forest\n",
    "- Naive Bayes\n",
    "- Perceptron\n",
    "- Neural Network\n",
    "\n",
    "---\n",
    "\n",
    "## Evaluation Method\n",
    "\n",
    "All models were evaluated using the **error ratio** defined as:\n",
    "\n",
    "$$\n",
    "\\text{Error Ratio} = 1 - \\frac{\\text{Correct Predictions}}{\\text{Total Examples}}\n",
    "$$\n",
    "\n",
    "This was implemented using the `err_ratio()` function provided in `learning.py`.\n",
    "\n",
    "---\n",
    "\n",
    "## Adjustments for Perceptron and Neural Network\n",
    "\n",
    "The original `err_ratio()` function used:\n",
    "\n",
    "```python\n",
    "dataset.sanitize(example)\n",
    "```\n",
    "\n",
    "This replaces non-input attributes with `None`, but both **Perceptron** and **Neural Network** require strictly numeric input. This led to a `TypeError` when attempting operations like:\n",
    "\n",
    "```\n",
    "TypeError: unsupported operand type(s) for *: 'NoneType' and 'float'\n",
    "```\n",
    "\n",
    "To fix this, I:\n",
    "\n",
    "1. Created a modified version of `err_ratio()` called `err_ratio_no_sanitize()` that skips the `.sanitize()` step and uses the raw, cleaned examples.\n",
    "\n",
    "2. Cleaned the data specifically for these models by removing non-input attributes entirely to eliminate any `None` values.\n",
    "\n",
    "---\n",
    "\n",
    "## Learning Curve Analysis\n",
    "\n",
    "Each model was trained on different fractions of the training dataset:\n",
    "\n",
    "- 10%\n",
    "- 25%\n",
    "- 50%\n",
    "- 75%\n",
    "- 100%\n",
    "\n",
    "I used **Matplotlib** to plot the learning curve, showing how error rates changed with increasing training size.\n",
    "\n",
    "As expected:\n",
    "\n",
    "$$\n",
    "\\text{Accuracy} \\uparrow \\quad \\text{as} \\quad \\text{Training Size} \\uparrow\n",
    "$$\n",
    "\n",
    "This confirmed the general trend that more training data improves model performance."
   ]
  },
  {
   "cell_type": "code",
   "execution_count": 3,
   "metadata": {},
   "outputs": [],
   "source": [
    "from learning import *\n",
    "from notebook import *"
   ]
  },
  {
   "cell_type": "markdown",
   "metadata": {},
   "source": [
    "Import the training and testing dataset."
   ]
  },
  {
   "cell_type": "code",
   "execution_count": 4,
   "metadata": {},
   "outputs": [],
   "source": [
    "titanic = DataSet(name = 'titanic')\n",
    "titanic_test = DataSet(name = 'titanictest')"
   ]
  },
  {
   "cell_type": "code",
   "execution_count": 5,
   "metadata": {},
   "outputs": [
    {
     "data": {
      "text/plain": [
       "[0, 1, 2, 3, 4, 5, 6, 7, 8, 9, 10, 11]"
      ]
     },
     "execution_count": 5,
     "metadata": {},
     "output_type": "execute_result"
    }
   ],
   "source": [
    "titanic.attrnames\n",
    "titanic_test.attrnames"
   ]
  },
  {
   "cell_type": "code",
   "execution_count": 6,
   "metadata": {},
   "outputs": [],
   "source": [
    "titanic.attrnames = titanic.examples[0]\n",
    "titanic_test.attrnames = titanic_test.examples[0]"
   ]
  },
  {
   "cell_type": "code",
   "execution_count": 7,
   "metadata": {},
   "outputs": [
    {
     "data": {
      "text/plain": [
       "['PassengerId',\n",
       " 'Survived',\n",
       " 'Pclass',\n",
       " 'Name',\n",
       " 'Sex',\n",
       " 'Age',\n",
       " 'SibSp',\n",
       " 'Parch',\n",
       " 'Ticket',\n",
       " 'Fare',\n",
       " 'Cabin',\n",
       " 'Embarked']"
      ]
     },
     "execution_count": 7,
     "metadata": {},
     "output_type": "execute_result"
    }
   ],
   "source": [
    "titanic.attrnames\n",
    "titanic_test.attrnames"
   ]
  },
  {
   "cell_type": "markdown",
   "metadata": {},
   "source": [
    "The default target index is the last element, 11.  In our case, the Survived label index is 1."
   ]
  },
  {
   "cell_type": "code",
   "execution_count": 8,
   "metadata": {},
   "outputs": [
    {
     "data": {
      "text/plain": [
       "11"
      ]
     },
     "execution_count": 8,
     "metadata": {},
     "output_type": "execute_result"
    }
   ],
   "source": [
    "titanic.target\n",
    "titanic_test.target"
   ]
  },
  {
   "cell_type": "code",
   "execution_count": 9,
   "metadata": {},
   "outputs": [],
   "source": [
    "titanic.target = 1\n",
    "titanic_test.target = 1"
   ]
  },
  {
   "cell_type": "markdown",
   "metadata": {},
   "source": [
    "The default input indexes are all the columns except the last.  We adjust that as well so that the PassengerID, Name, Ticket, and Cabin are omitted."
   ]
  },
  {
   "cell_type": "code",
   "execution_count": 10,
   "metadata": {},
   "outputs": [
    {
     "data": {
      "text/plain": [
       "[0, 1, 2, 3, 4, 5, 6, 7, 8, 9, 10]"
      ]
     },
     "execution_count": 10,
     "metadata": {},
     "output_type": "execute_result"
    }
   ],
   "source": [
    "titanic.inputs"
   ]
  },
  {
   "cell_type": "code",
   "execution_count": 11,
   "metadata": {},
   "outputs": [
    {
     "data": {
      "text/plain": [
       "[1,\n",
       " 0,\n",
       " 3,\n",
       " '\"Braund Mr. Owen Harris\"',\n",
       " 'male',\n",
       " 22,\n",
       " 1,\n",
       " 0,\n",
       " 'A/5 21171',\n",
       " 7.25,\n",
       " '',\n",
       " 'S']"
      ]
     },
     "execution_count": 11,
     "metadata": {},
     "output_type": "execute_result"
    }
   ],
   "source": [
    "titanic.examples[1]"
   ]
  },
  {
   "cell_type": "code",
   "execution_count": 12,
   "metadata": {},
   "outputs": [],
   "source": [
    "titanic.inputs = [2,4,5,6,7,9,11]\n",
    "titanic_test.inputs = [2,4,5,6,7,9,11]"
   ]
  },
  {
   "cell_type": "markdown",
   "metadata": {},
   "source": [
    "The first row of examples contains the headers.  We strip that away."
   ]
  },
  {
   "cell_type": "code",
   "execution_count": 13,
   "metadata": {},
   "outputs": [],
   "source": [
    "titanic.examples = titanic.examples[1:]\n",
    "titanic_test.examples = titanic_test.examples[1:]"
   ]
  },
  {
   "cell_type": "markdown",
   "metadata": {},
   "source": [
    "**We need to update the values to remove the header strings.**"
   ]
  },
  {
   "cell_type": "code",
   "execution_count": 14,
   "metadata": {},
   "outputs": [],
   "source": [
    "titanic.update_values()\n",
    "titanic_test.update_values()"
   ]
  },
  {
   "cell_type": "markdown",
   "metadata": {},
   "source": [
    "Now, we clean the data. Missing SibSp, Parch, Fare, Age values will be replaced by the median. Missing Embarked values will be replaced with a 'U', signaling an unknown token."
   ]
  },
  {
   "cell_type": "code",
   "execution_count": 15,
   "metadata": {},
   "outputs": [],
   "source": [
    "import statistics\n",
    "\n",
    "def fill_missing_with_median(dataset, attrname):\n",
    "    idx = dataset.attrnames.index(attrname)\n",
    "    # Get non-missing values (excluding '' or None)\n",
    "    values = [float(row[idx]) for row in dataset.examples if row[idx] != '' and row[idx] is not None]\n",
    "    median_value = statistics.median(values)\n",
    "    \n",
    "    # Fill in missing\n",
    "    for row in dataset.examples:\n",
    "        if row[idx] == '' or row[idx] is None:\n",
    "            row[idx] = median_value\n",
    "            \n",
    "for col in ['SibSp', 'Parch', 'Fare', 'Age']:\n",
    "    fill_missing_with_median(titanic, col)\n",
    "    fill_missing_with_median(titanic_test, col)\n",
    "    \n",
    "for row in titanic.examples:\n",
    "    if row[11] == '' or row[11] is None:\n",
    "        row[11] = 'U'\n",
    "        \n",
    "for row in titanic_test.examples:\n",
    "    if row[11] == '' or row[11] is None:\n",
    "        row[11] = 'U'"
   ]
  },
  {
   "cell_type": "markdown",
   "metadata": {},
   "source": [
    "We use categorical mapping to map Sex and Embarked unique integer values so that the data doesn't include strings."
   ]
  },
  {
   "cell_type": "code",
   "execution_count": 16,
   "metadata": {
    "scrolled": true
   },
   "outputs": [
    {
     "name": "stdout",
     "output_type": "stream",
     "text": [
      "Sex Mapping: {'female': 0, 'male': 1}\n",
      "Embarked Mapping: {'C': 0, 'Q': 1, 'S': 2, 'U': 3}\n"
     ]
    },
    {
     "data": {
      "text/plain": [
       "{'C': 0, 'Q': 1, 'S': 2}"
      ]
     },
     "execution_count": 16,
     "metadata": {},
     "output_type": "execute_result"
    }
   ],
   "source": [
    "def convert_str_feature_to_numbers(self, attrname):\n",
    "    idx = self.attrnames.index(attrname)\n",
    "    unique_vals = sorted(set(row[idx] for row in self.examples if row[idx] != '' and row[idx] is not None))\n",
    "    mapping = {val: i for i, val in enumerate(unique_vals)}\n",
    "\n",
    "    for row in self.examples:\n",
    "        if row[idx] in mapping:\n",
    "            row[idx] = mapping[row[idx]]\n",
    "        else:\n",
    "            row[idx] = -1\n",
    "    \n",
    "    return mapping\n",
    "\n",
    "sex_mapping = convert_str_feature_to_numbers(titanic, 'Sex')\n",
    "embarked_mapping = convert_str_feature_to_numbers(titanic, 'Embarked')\n",
    "\n",
    "print(\"Sex Mapping:\", sex_mapping)\n",
    "print(\"Embarked Mapping:\", embarked_mapping)\n",
    "\n",
    "convert_str_feature_to_numbers(titanic_test, 'Sex')\n",
    "convert_str_feature_to_numbers(titanic_test, 'Embarked')"
   ]
  },
  {
   "cell_type": "markdown",
   "metadata": {},
   "source": [
    "We will use the err_ratio() function to measure the accuracy of a given model's predictions."
   ]
  },
  {
   "cell_type": "code",
   "execution_count": 17,
   "metadata": {},
   "outputs": [
    {
     "data": {
      "text/html": [
       "<!DOCTYPE html PUBLIC \"-//W3C//DTD HTML 4.01//EN\"\n",
       "   \"http://www.w3.org/TR/html4/strict.dtd\">\n",
       "<!--\n",
       "generated by Pygments <https://pygments.org/>\n",
       "Copyright 2006-2024 by the Pygments team.\n",
       "Licensed under the BSD license, see LICENSE for details.\n",
       "-->\n",
       "<html>\n",
       "<head>\n",
       "  <title></title>\n",
       "  <meta http-equiv=\"content-type\" content=\"text/html; charset=None\">\n",
       "  <style type=\"text/css\">\n",
       "/*\n",
       "generated by Pygments <https://pygments.org/>\n",
       "Copyright 2006-2024 by the Pygments team.\n",
       "Licensed under the BSD license, see LICENSE for details.\n",
       "*/\n",
       "pre { line-height: 125%; }\n",
       "td.linenos .normal { color: inherit; background-color: transparent; padding-left: 5px; padding-right: 5px; }\n",
       "span.linenos { color: inherit; background-color: transparent; padding-left: 5px; padding-right: 5px; }\n",
       "td.linenos .special { color: #000000; background-color: #ffffc0; padding-left: 5px; padding-right: 5px; }\n",
       "span.linenos.special { color: #000000; background-color: #ffffc0; padding-left: 5px; padding-right: 5px; }\n",
       "body .hll { background-color: #ffffcc }\n",
       "body { background: #f8f8f8; }\n",
       "body .c { color: #3D7B7B; font-style: italic } /* Comment */\n",
       "body .err { border: 1px solid #FF0000 } /* Error */\n",
       "body .k { color: #008000; font-weight: bold } /* Keyword */\n",
       "body .o { color: #666666 } /* Operator */\n",
       "body .ch { color: #3D7B7B; font-style: italic } /* Comment.Hashbang */\n",
       "body .cm { color: #3D7B7B; font-style: italic } /* Comment.Multiline */\n",
       "body .cp { color: #9C6500 } /* Comment.Preproc */\n",
       "body .cpf { color: #3D7B7B; font-style: italic } /* Comment.PreprocFile */\n",
       "body .c1 { color: #3D7B7B; font-style: italic } /* Comment.Single */\n",
       "body .cs { color: #3D7B7B; font-style: italic } /* Comment.Special */\n",
       "body .gd { color: #A00000 } /* Generic.Deleted */\n",
       "body .ge { font-style: italic } /* Generic.Emph */\n",
       "body .ges { font-weight: bold; font-style: italic } /* Generic.EmphStrong */\n",
       "body .gr { color: #E40000 } /* Generic.Error */\n",
       "body .gh { color: #000080; font-weight: bold } /* Generic.Heading */\n",
       "body .gi { color: #008400 } /* Generic.Inserted */\n",
       "body .go { color: #717171 } /* Generic.Output */\n",
       "body .gp { color: #000080; font-weight: bold } /* Generic.Prompt */\n",
       "body .gs { font-weight: bold } /* Generic.Strong */\n",
       "body .gu { color: #800080; font-weight: bold } /* Generic.Subheading */\n",
       "body .gt { color: #0044DD } /* Generic.Traceback */\n",
       "body .kc { color: #008000; font-weight: bold } /* Keyword.Constant */\n",
       "body .kd { color: #008000; font-weight: bold } /* Keyword.Declaration */\n",
       "body .kn { color: #008000; font-weight: bold } /* Keyword.Namespace */\n",
       "body .kp { color: #008000 } /* Keyword.Pseudo */\n",
       "body .kr { color: #008000; font-weight: bold } /* Keyword.Reserved */\n",
       "body .kt { color: #B00040 } /* Keyword.Type */\n",
       "body .m { color: #666666 } /* Literal.Number */\n",
       "body .s { color: #BA2121 } /* Literal.String */\n",
       "body .na { color: #687822 } /* Name.Attribute */\n",
       "body .nb { color: #008000 } /* Name.Builtin */\n",
       "body .nc { color: #0000FF; font-weight: bold } /* Name.Class */\n",
       "body .no { color: #880000 } /* Name.Constant */\n",
       "body .nd { color: #AA22FF } /* Name.Decorator */\n",
       "body .ni { color: #717171; font-weight: bold } /* Name.Entity */\n",
       "body .ne { color: #CB3F38; font-weight: bold } /* Name.Exception */\n",
       "body .nf { color: #0000FF } /* Name.Function */\n",
       "body .nl { color: #767600 } /* Name.Label */\n",
       "body .nn { color: #0000FF; font-weight: bold } /* Name.Namespace */\n",
       "body .nt { color: #008000; font-weight: bold } /* Name.Tag */\n",
       "body .nv { color: #19177C } /* Name.Variable */\n",
       "body .ow { color: #AA22FF; font-weight: bold } /* Operator.Word */\n",
       "body .w { color: #bbbbbb } /* Text.Whitespace */\n",
       "body .mb { color: #666666 } /* Literal.Number.Bin */\n",
       "body .mf { color: #666666 } /* Literal.Number.Float */\n",
       "body .mh { color: #666666 } /* Literal.Number.Hex */\n",
       "body .mi { color: #666666 } /* Literal.Number.Integer */\n",
       "body .mo { color: #666666 } /* Literal.Number.Oct */\n",
       "body .sa { color: #BA2121 } /* Literal.String.Affix */\n",
       "body .sb { color: #BA2121 } /* Literal.String.Backtick */\n",
       "body .sc { color: #BA2121 } /* Literal.String.Char */\n",
       "body .dl { color: #BA2121 } /* Literal.String.Delimiter */\n",
       "body .sd { color: #BA2121; font-style: italic } /* Literal.String.Doc */\n",
       "body .s2 { color: #BA2121 } /* Literal.String.Double */\n",
       "body .se { color: #AA5D1F; font-weight: bold } /* Literal.String.Escape */\n",
       "body .sh { color: #BA2121 } /* Literal.String.Heredoc */\n",
       "body .si { color: #A45A77; font-weight: bold } /* Literal.String.Interpol */\n",
       "body .sx { color: #008000 } /* Literal.String.Other */\n",
       "body .sr { color: #A45A77 } /* Literal.String.Regex */\n",
       "body .s1 { color: #BA2121 } /* Literal.String.Single */\n",
       "body .ss { color: #19177C } /* Literal.String.Symbol */\n",
       "body .bp { color: #008000 } /* Name.Builtin.Pseudo */\n",
       "body .fm { color: #0000FF } /* Name.Function.Magic */\n",
       "body .vc { color: #19177C } /* Name.Variable.Class */\n",
       "body .vg { color: #19177C } /* Name.Variable.Global */\n",
       "body .vi { color: #19177C } /* Name.Variable.Instance */\n",
       "body .vm { color: #19177C } /* Name.Variable.Magic */\n",
       "body .il { color: #666666 } /* Literal.Number.Integer.Long */\n",
       "\n",
       "  </style>\n",
       "</head>\n",
       "<body>\n",
       "<h2></h2>\n",
       "\n",
       "<div class=\"highlight\"><pre><span></span><span class=\"k\">def</span> <span class=\"nf\">err_ratio</span><span class=\"p\">(</span><span class=\"n\">predict</span><span class=\"p\">,</span> <span class=\"n\">dataset</span><span class=\"p\">,</span> <span class=\"n\">examples</span><span class=\"o\">=</span><span class=\"kc\">None</span><span class=\"p\">,</span> <span class=\"n\">verbose</span><span class=\"o\">=</span><span class=\"mi\">0</span><span class=\"p\">):</span>\n",
       "<span class=\"w\">    </span><span class=\"sd\">&quot;&quot;&quot;Return the proportion of the examples that are NOT correctly predicted.</span>\n",
       "<span class=\"sd\">    verbose - 0: No output; 1: Output wrong; 2 (or greater): Output correct&quot;&quot;&quot;</span>\n",
       "    <span class=\"n\">examples</span> <span class=\"o\">=</span> <span class=\"n\">examples</span> <span class=\"ow\">or</span> <span class=\"n\">dataset</span><span class=\"o\">.</span><span class=\"n\">examples</span>\n",
       "    <span class=\"k\">if</span> <span class=\"nb\">len</span><span class=\"p\">(</span><span class=\"n\">examples</span><span class=\"p\">)</span> <span class=\"o\">==</span> <span class=\"mi\">0</span><span class=\"p\">:</span>\n",
       "        <span class=\"k\">return</span> <span class=\"mf\">0.0</span>\n",
       "    <span class=\"n\">right</span> <span class=\"o\">=</span> <span class=\"mi\">0</span>\n",
       "    <span class=\"k\">for</span> <span class=\"n\">example</span> <span class=\"ow\">in</span> <span class=\"n\">examples</span><span class=\"p\">:</span>\n",
       "        <span class=\"n\">desired</span> <span class=\"o\">=</span> <span class=\"n\">example</span><span class=\"p\">[</span><span class=\"n\">dataset</span><span class=\"o\">.</span><span class=\"n\">target</span><span class=\"p\">]</span>\n",
       "        <span class=\"n\">output</span> <span class=\"o\">=</span> <span class=\"n\">predict</span><span class=\"p\">(</span><span class=\"n\">dataset</span><span class=\"o\">.</span><span class=\"n\">sanitize</span><span class=\"p\">(</span><span class=\"n\">example</span><span class=\"p\">))</span>\n",
       "        <span class=\"k\">if</span> <span class=\"n\">output</span> <span class=\"o\">==</span> <span class=\"n\">desired</span><span class=\"p\">:</span>\n",
       "            <span class=\"n\">right</span> <span class=\"o\">+=</span> <span class=\"mi\">1</span>\n",
       "            <span class=\"k\">if</span> <span class=\"n\">verbose</span> <span class=\"o\">&gt;=</span> <span class=\"mi\">2</span><span class=\"p\">:</span>\n",
       "                <span class=\"nb\">print</span><span class=\"p\">(</span><span class=\"s1\">&#39;   OK: got </span><span class=\"si\">{}</span><span class=\"s1\"> for </span><span class=\"si\">{}</span><span class=\"s1\">&#39;</span><span class=\"o\">.</span><span class=\"n\">format</span><span class=\"p\">(</span><span class=\"n\">desired</span><span class=\"p\">,</span> <span class=\"n\">example</span><span class=\"p\">))</span>\n",
       "        <span class=\"k\">elif</span> <span class=\"n\">verbose</span><span class=\"p\">:</span>\n",
       "            <span class=\"nb\">print</span><span class=\"p\">(</span><span class=\"s1\">&#39;WRONG: got </span><span class=\"si\">{}</span><span class=\"s1\">, expected </span><span class=\"si\">{}</span><span class=\"s1\"> for </span><span class=\"si\">{}</span><span class=\"s1\">&#39;</span><span class=\"o\">.</span><span class=\"n\">format</span><span class=\"p\">(</span>\n",
       "                <span class=\"n\">output</span><span class=\"p\">,</span> <span class=\"n\">desired</span><span class=\"p\">,</span> <span class=\"n\">example</span><span class=\"p\">))</span>\n",
       "    <span class=\"k\">return</span> <span class=\"mi\">1</span> <span class=\"o\">-</span> <span class=\"p\">(</span><span class=\"n\">right</span><span class=\"o\">/</span><span class=\"nb\">len</span><span class=\"p\">(</span><span class=\"n\">examples</span><span class=\"p\">))</span>\n",
       "</pre></div>\n",
       "</body>\n",
       "</html>\n"
      ],
      "text/plain": [
       "<IPython.core.display.HTML object>"
      ]
     },
     "metadata": {},
     "output_type": "display_data"
    }
   ],
   "source": [
    "psource(err_ratio)"
   ]
  },
  {
   "cell_type": "markdown",
   "metadata": {},
   "source": [
    "We train the Decision Learner and get its accuracy."
   ]
  },
  {
   "cell_type": "code",
   "execution_count": 18,
   "metadata": {},
   "outputs": [],
   "source": [
    "fractions = [0.1, 0.25, 0.5, 0.75, 1.0]"
   ]
  },
  {
   "cell_type": "code",
   "execution_count": 19,
   "metadata": {},
   "outputs": [],
   "source": [
    "DTL = DecisionTreeLearner(titanic)"
   ]
  },
  {
   "cell_type": "code",
   "execution_count": 20,
   "metadata": {},
   "outputs": [
    {
     "name": "stdout",
     "output_type": "stream",
     "text": [
      "Decision Tree Error Rates:\n",
      "Training Size: 10% — Error Rate: 0.4593\n",
      "Training Size: 25% — Error Rate: 0.3780\n",
      "Training Size: 50% — Error Rate: 0.3732\n",
      "Training Size: 75% — Error Rate: 0.3445\n",
      "Training Size: 100% — Error Rate: 0.3349\n"
     ]
    }
   ],
   "source": [
    "dt_errors = []\n",
    "\n",
    "for frac in fractions:\n",
    "    split = int(frac * len(titanic.examples))\n",
    "    subset = DataSet(\n",
    "        examples=titanic.examples[:split],\n",
    "        attrnames=titanic.attrnames,\n",
    "        target=titanic.target,\n",
    "        inputs=titanic.inputs,\n",
    "        name=f\"DT_{int(frac * 100)}\"\n",
    "    )\n",
    "    model = DecisionTreeLearner(subset)\n",
    "    error = err_ratio(model, titanic_test)\n",
    "    dt_errors.append(error)\n",
    "    \n",
    "print(\"Decision Tree Error Rates:\")\n",
    "for frac, err in zip(fractions, dt_errors):\n",
    "    print(f\"Training Size: {int(frac * 100)}% — Error Rate: {err:.4f}\")"
   ]
  },
  {
   "cell_type": "code",
   "execution_count": 21,
   "metadata": {},
   "outputs": [
    {
     "data": {
      "image/png": "[encoded data removed]",
      "text/plain": [
       "<Figure size 432x288 with 1 Axes>"
      ]
     },
     "metadata": {
      "needs_background": "light"
     },
     "output_type": "display_data"
    }
   ],
   "source": [
    "import matplotlib.pyplot as plt\n",
    "\n",
    "plt.figure()\n",
    "plt.plot([int(f * 100) for f in fractions], dt_errors, marker='o')\n",
    "plt.xlabel(\"Training Set Size (%)\")\n",
    "plt.ylabel(\"Error Rate\")\n",
    "plt.title(\"Decision Tree Error Rate vs Training Size\")\n",
    "plt.grid(True)\n",
    "plt.show()"
   ]
  },
  {
   "cell_type": "code",
   "execution_count": 22,
   "metadata": {},
   "outputs": [
    {
     "name": "stdout",
     "output_type": "stream",
     "text": [
      "Error ratio for decision tree learner:  0.368421052631579\n"
     ]
    }
   ],
   "source": [
    "print(\"Error ratio for decision tree learner: \", err_ratio(DTL, titanic_test))"
   ]
  },
  {
   "cell_type": "markdown",
   "metadata": {},
   "source": [
    "Next is the random forest model, with 5 trees."
   ]
  },
  {
   "cell_type": "code",
   "execution_count": 23,
   "metadata": {},
   "outputs": [],
   "source": [
    "RFL = RandomForest(titanic, n=5)"
   ]
  },
  {
   "cell_type": "code",
   "execution_count": 24,
   "metadata": {},
   "outputs": [
    {
     "name": "stdout",
     "output_type": "stream",
     "text": [
      "Random Forest Tree Error Rates:\n",
      "Training Size: 10% — Error Rate: 0.4545\n",
      "Training Size: 25% — Error Rate: 0.4091\n",
      "Training Size: 50% — Error Rate: 0.3445\n",
      "Training Size: 75% — Error Rate: 0.4115\n",
      "Training Size: 100% — Error Rate: 0.3445\n"
     ]
    }
   ],
   "source": [
    "rf_errors = []\n",
    "\n",
    "for frac in fractions:\n",
    "    split = int(frac * len(titanic.examples))\n",
    "    subset = DataSet(\n",
    "        examples=titanic.examples[:split],\n",
    "        attrnames=titanic.attrnames,\n",
    "        target=titanic.target,\n",
    "        inputs=titanic.inputs,\n",
    "        name=f\"RF_{int(frac * 100)}\"\n",
    "    )\n",
    "    model = RandomForest(subset, n=5)\n",
    "    error = err_ratio(model, titanic_test)\n",
    "    rf_errors.append(error)\n",
    "    \n",
    "    \n",
    "print(\"Random Forest Tree Error Rates:\")\n",
    "for frac, err in zip(fractions, rf_errors):\n",
    "    print(f\"Training Size: {int(frac * 100)}% — Error Rate: {err:.4f}\")"
   ]
  },
  {
   "cell_type": "code",
   "execution_count": 25,
   "metadata": {},
   "outputs": [
    {
     "data": {
      "image/png": "[encoded data removed]",
      "text/plain": [
       "<Figure size 432x288 with 1 Axes>"
      ]
     },
     "metadata": {
      "needs_background": "light"
     },
     "output_type": "display_data"
    }
   ],
   "source": [
    "plt.figure()\n",
    "plt.plot([int(f * 100) for f in fractions], rf_errors, marker='o')\n",
    "plt.xlabel(\"Training Set Size (%)\")\n",
    "plt.ylabel(\"Error Rate\")\n",
    "plt.title(\"Random Forest Error Rate vs Training Size\")\n",
    "plt.grid(True)\n",
    "plt.show()"
   ]
  },
  {
   "cell_type": "code",
   "execution_count": 26,
   "metadata": {},
   "outputs": [
    {
     "name": "stdout",
     "output_type": "stream",
     "text": [
      "Error ratio for random forest learner:  0.31818181818181823\n"
     ]
    }
   ],
   "source": [
    "print(\"Error ratio for random forest learner: \", err_ratio(RFL, titanic_test))"
   ]
  },
  {
   "cell_type": "markdown",
   "metadata": {},
   "source": [
    "We now try a Naive Bayes model."
   ]
  },
  {
   "cell_type": "code",
   "execution_count": 27,
   "metadata": {},
   "outputs": [
    {
     "name": "stdout",
     "output_type": "stream",
     "text": [
      "Naive Bayes Error Rates by Training Size:\n",
      "  Training Size:  10% — Error Rate: 0.4091\n",
      "  Training Size:  25% — Error Rate: 0.3469\n",
      "  Training Size:  50% — Error Rate: 0.3086\n",
      "  Training Size:  75% — Error Rate: 0.2943\n",
      "  Training Size: 100% — Error Rate: 0.2871\n"
     ]
    }
   ],
   "source": [
    "dataset = titanic\n",
    "\n",
    "nb_errors = []\n",
    "\n",
    "for frac in fractions:\n",
    "    split_idx = int(frac * len(titanic.examples))\n",
    "    dataset = DataSet(\n",
    "        examples=titanic.examples[:split_idx],\n",
    "        attrnames=titanic.attrnames,\n",
    "        target=titanic.target,\n",
    "        inputs=titanic.inputs,\n",
    "        name=f\"NB_{int(frac * 100)}\"\n",
    "    )\n",
    "\n",
    "    target_vals = dataset.values[dataset.target]\n",
    "    target_dist = CountingProbDist(target_vals)\n",
    "    attr_dists = {(gv, attr): CountingProbDist(dataset.values[attr])\n",
    "                  for gv in target_vals\n",
    "                  for attr in dataset.inputs}\n",
    "\n",
    "    for example in dataset.examples:\n",
    "        targetval = example[dataset.target]\n",
    "        target_dist.add(targetval)\n",
    "        for attr in dataset.inputs:\n",
    "            attr_dists[targetval, attr].add(example[attr])\n",
    "\n",
    "    def predict(example):\n",
    "        def class_probability(targetval):\n",
    "            return (target_dist[targetval] *\n",
    "                    product(attr_dists[targetval, attr][example[attr]]\n",
    "                            for attr in dataset.inputs))\n",
    "        return argmax(target_vals, key=class_probability)\n",
    "\n",
    "    error = err_ratio(predict, titanic_test)\n",
    "    nb_errors.append(error)\n",
    "    \n",
    "print(\"Naive Bayes Error Rates by Training Size:\")\n",
    "for frac, err in zip(fractions, nb_errors):\n",
    "    print(f\"  Training Size: {int(frac * 100):>3}% — Error Rate: {err:.4f}\")"
   ]
  },
  {
   "cell_type": "code",
   "execution_count": 28,
   "metadata": {},
   "outputs": [
    {
     "data": {
      "image/png": "[encoded data removed]",
      "text/plain": [
       "<Figure size 432x288 with 1 Axes>"
      ]
     },
     "metadata": {
      "needs_background": "light"
     },
     "output_type": "display_data"
    }
   ],
   "source": [
    "plt.figure()\n",
    "plt.plot([int(f * 100) for f in fractions], nb_errors, marker='o')\n",
    "plt.xlabel(\"Training Set Size (%)\")\n",
    "plt.ylabel(\"Error Rate\")\n",
    "plt.title(\"Naive Bayes Error Rate vs Training Size\")\n",
    "plt.grid(True)\n",
    "plt.show()"
   ]
  },
  {
   "cell_type": "code",
   "execution_count": 29,
   "metadata": {},
   "outputs": [
    {
     "name": "stdout",
     "output_type": "stream",
     "text": [
      "Error ratio for naive Bayes discrete:  0.2870813397129187\n"
     ]
    }
   ],
   "source": [
    "print(\"Error ratio for naive Bayes discrete: \", err_ratio(predict, titanic_test))"
   ]
  },
  {
   "cell_type": "markdown",
   "metadata": {},
   "source": [
    "Before we move on to the Percepetron and Neural Network models, we define a new err_ratio so that there aren't and linger 'None\" type values that will throw an error."
   ]
  },
  {
   "cell_type": "code",
   "execution_count": 30,
   "metadata": {},
   "outputs": [],
   "source": [
    "def err_ratio(predict, dataset, examples=None, verbose=0):\n",
    "    \"\"\"Return the proportion of the examples that are NOT correctly predicted.\n",
    "    verbose - 0: No output; 1: Output wrong; 2 (or greater): Output correct\"\"\"\n",
    "    examples = examples or dataset.examples\n",
    "    if len(examples) == 0:\n",
    "        return 0.0\n",
    "    right = 0\n",
    "    for example in examples:\n",
    "        desired = example[dataset.target]\n",
    "        output = predict([example[i] for i in dataset.inputs])\n",
    "        if output == desired:\n",
    "            right += 1\n",
    "            if verbose >= 2:\n",
    "                print('   OK: got {} for {}'.format(desired, example))\n",
    "        elif verbose:\n",
    "            print('WRONG: got {}, expected {} for {}'.format(\n",
    "                output, desired, example))\n",
    "    return 1 - (right/len(examples))"
   ]
  },
  {
   "cell_type": "markdown",
   "metadata": {},
   "source": [
    "The Perceptron and Neural Network models need data with integers/floats only. We get rid of the non-input attribute columns and adjust the target accordingly."
   ]
  },
  {
   "cell_type": "code",
   "execution_count": 31,
   "metadata": {},
   "outputs": [],
   "source": [
    "remove_idxs = [0, 3, 8, 10]\n",
    "remove_idxs.sort(reverse=True)\n",
    "\n",
    "# Remove from attrnames\n",
    "for idx in remove_idxs:\n",
    "    del titanic.attrnames[idx]\n",
    "\n",
    "# Remove from examples\n",
    "for i, row in enumerate(titanic.examples):\n",
    "    for idx in remove_idxs:\n",
    "        del row[idx]\n",
    "        \n",
    "for idx in remove_idxs:\n",
    "    del titanic_test.attrnames[idx]\n",
    "\n",
    "# Remove from examples\n",
    "for i, row in enumerate(titanic_test.examples):\n",
    "    for idx in remove_idxs:\n",
    "        del row[idx]"
   ]
  },
  {
   "cell_type": "code",
   "execution_count": 32,
   "metadata": {},
   "outputs": [
    {
     "data": {
      "text/plain": [
       "['Survived', 'Pclass', 'Sex', 'Age', 'SibSp', 'Parch', 'Fare', 'Embarked']"
      ]
     },
     "execution_count": 32,
     "metadata": {},
     "output_type": "execute_result"
    }
   ],
   "source": [
    "titanic.attrnames\n",
    "titanic_test.attrnames"
   ]
  },
  {
   "cell_type": "code",
   "execution_count": 33,
   "metadata": {},
   "outputs": [
    {
     "data": {
      "text/plain": [
       "[0, 3, 1, 22, 1, 0, 7.25, 2]"
      ]
     },
     "execution_count": 33,
     "metadata": {},
     "output_type": "execute_result"
    }
   ],
   "source": [
    "titanic.attrnames = titanic.examples[0]\n",
    "titanic_test.attrnames = titanic.examples[0]\n",
    "titanic.attrnames\n",
    "titanic_test.attrnames"
   ]
  },
  {
   "cell_type": "code",
   "execution_count": 34,
   "metadata": {},
   "outputs": [],
   "source": [
    "titanic.target = 0\n",
    "titanic_test.target = 0"
   ]
  },
  {
   "cell_type": "code",
   "execution_count": 35,
   "metadata": {},
   "outputs": [],
   "source": [
    "titanic.inputs = [1,2,3,4,5,6,7]\n",
    "titanic_test.inputs = [1,2,3,4,5,6,7]"
   ]
  },
  {
   "cell_type": "code",
   "execution_count": 36,
   "metadata": {},
   "outputs": [],
   "source": [
    "titanic.update_values()\n",
    "titanic_test.update_values()"
   ]
  },
  {
   "cell_type": "markdown",
   "metadata": {},
   "source": [
    "We can now train the Perceptron model."
   ]
  },
  {
   "cell_type": "code",
   "execution_count": 37,
   "metadata": {},
   "outputs": [],
   "source": [
    "perceptron = PerceptronLearner(titanic)"
   ]
  },
  {
   "cell_type": "code",
   "execution_count": 38,
   "metadata": {},
   "outputs": [
    {
     "name": "stdout",
     "output_type": "stream",
     "text": [
      "Random Forest Tree Error Rates:\n",
      "Training Size: 10% — Error Rate: 0.5431\n",
      "Training Size: 25% — Error Rate: 0.2990\n",
      "Training Size: 50% — Error Rate: 0.3684\n",
      "Training Size: 75% — Error Rate: 0.3014\n",
      "Training Size: 100% — Error Rate: 0.2967\n"
     ]
    }
   ],
   "source": [
    "perceptron_errors = []\n",
    "\n",
    "for frac in fractions:\n",
    "    split = int(frac * len(titanic.examples))\n",
    "    subset = DataSet(\n",
    "        examples=titanic.examples[:split],\n",
    "        attrnames=titanic.attrnames,\n",
    "        target=titanic.target,\n",
    "        inputs=titanic.inputs,\n",
    "        name=f\"RF_{int(frac * 100)}\"\n",
    "    )\n",
    "    model = PerceptronLearner(subset)\n",
    "    error = err_ratio(model, titanic_test)\n",
    "    perceptron_errors.append(error)\n",
    "    \n",
    "    \n",
    "print(\"Random Forest Tree Error Rates:\")\n",
    "for frac, err in zip(fractions, perceptron_errors):\n",
    "    print(f\"Training Size: {int(frac * 100)}% — Error Rate: {err:.4f}\")"
   ]
  },
  {
   "cell_type": "code",
   "execution_count": 39,
   "metadata": {},
   "outputs": [
    {
     "data": {
      "image/png": "[encoded data removed]",
      "text/plain": [
       "<Figure size 432x288 with 1 Axes>"
      ]
     },
     "metadata": {
      "needs_background": "light"
     },
     "output_type": "display_data"
    }
   ],
   "source": [
    "plt.figure()\n",
    "plt.plot([int(f * 100) for f in fractions], perceptron_errors, marker='o')\n",
    "plt.xlabel(\"Training Set Size (%)\")\n",
    "plt.ylabel(\"Error Rate\")\n",
    "plt.title(\"Perceptron Error Rate vs Training Size\")\n",
    "plt.grid(True)\n",
    "plt.show()"
   ]
  },
  {
   "cell_type": "code",
   "execution_count": 40,
   "metadata": {},
   "outputs": [
    {
     "name": "stdout",
     "output_type": "stream",
     "text": [
      "Error ratio for perceptron learner:  0.29425837320574166\n"
     ]
    }
   ],
   "source": [
    "print(\"Error ratio for perceptron learner: \", err_ratio(perceptron, titanic_test))"
   ]
  },
  {
   "cell_type": "markdown",
   "metadata": {},
   "source": [
    "Finally, we try the Neural Network model."
   ]
  },
  {
   "cell_type": "code",
   "execution_count": 41,
   "metadata": {},
   "outputs": [],
   "source": [
    "NNL = NeuralNetLearner(titanic)"
   ]
  },
  {
   "cell_type": "code",
   "execution_count": 42,
   "metadata": {},
   "outputs": [
    {
     "name": "stdout",
     "output_type": "stream",
     "text": [
      "Neural Network Error Rates:\n",
      "Training Size: 10% — Error Rate: 0.3684\n",
      "Training Size: 25% — Error Rate: 0.3445\n",
      "Training Size: 50% — Error Rate: 0.3684\n",
      "Training Size: 75% — Error Rate: 0.3278\n",
      "Training Size: 100% — Error Rate: 0.3493\n"
     ]
    }
   ],
   "source": [
    "NNL_errors = []\n",
    "\n",
    "for frac in fractions:\n",
    "    split = int(frac * len(titanic.examples))\n",
    "    subset = DataSet(\n",
    "        examples=titanic.examples[:split],\n",
    "        attrnames=titanic.attrnames,\n",
    "        target=titanic.target,\n",
    "        inputs=titanic.inputs,\n",
    "        name=f\"RF_{int(frac * 100)}\"\n",
    "    )\n",
    "    model = NeuralNetLearner(subset)\n",
    "    error = err_ratio(model, titanic_test)\n",
    "    NNL_errors.append(error)\n",
    "    \n",
    "    \n",
    "print(\"Neural Network Error Rates:\")\n",
    "for frac, err in zip(fractions, NNL_errors):\n",
    "    print(f\"Training Size: {int(frac * 100)}% — Error Rate: {err:.4f}\")"
   ]
  },
  {
   "cell_type": "code",
   "execution_count": 43,
   "metadata": {},
   "outputs": [
    {
     "data": {
      "image/png": "[encoded data removed]",
      "text/plain": [
       "<Figure size 432x288 with 1 Axes>"
      ]
     },
     "metadata": {
      "needs_background": "light"
     },
     "output_type": "display_data"
    }
   ],
   "source": [
    "plt.figure()\n",
    "plt.plot([int(f * 100) for f in fractions], NNL_errors, marker='o')\n",
    "plt.xlabel(\"Training Set Size (%)\")\n",
    "plt.ylabel(\"Error Rate\")\n",
    "plt.title(\"Neural Network Error Rate vs Training Size\")\n",
    "plt.grid(True)\n",
    "plt.show()"
   ]
  },
  {
   "cell_type": "code",
   "execution_count": 44,
   "metadata": {},
   "outputs": [
    {
     "name": "stdout",
     "output_type": "stream",
     "text": [
      "Error ratio for neural network learner:  0.34928229665071775\n"
     ]
    }
   ],
   "source": [
    "print(\"Error ratio for neural network learner: \", err_ratio(NNL, titanic_test))"
   ]
  }
 ],
 "metadata": {
  "kernelspec": {
   "display_name": "Python 3 (ipykernel)",
   "language": "python",
   "name": "python3"
  },
  "language_info": {
   "codemirror_mode": {
    "name": "ipython",
    "version": 3
   },
   "file_extension": ".py",
   "mimetype": "text/x-python",
   "name": "python",
   "nbconvert_exporter": "python",
   "pygments_lexer": "ipython3",
   "version": "3.10.12"
  }
 },
 "nbformat": 4,
 "nbformat_minor": 2
}
